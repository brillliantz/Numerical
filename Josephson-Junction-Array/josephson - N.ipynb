{
 "cells": [
  {
   "cell_type": "code",
   "execution_count": 10,
   "metadata": {
    "collapsed": true
   },
   "outputs": [],
   "source": [
    "# coding: utf-8\n",
    "'''公式的手写版在寝室草稿纸'''\n",
    "import scipy.integrate as inte\n",
    "import numpy as np\n",
    "import matplotlib.pyplot as plt\n",
    "import seaborn as sns\n",
    "#from numba import jit\n",
    "import time as tm"
   ]
  },
  {
   "cell_type": "code",
   "execution_count": 11,
   "metadata": {
    "collapsed": true
   },
   "outputs": [],
   "source": [
    "################### Parameters ###################\n",
    "# How many junctions\n",
    "N = 10\n",
    "# Normalized parameters\n",
    "alpha0 = 0.1\n",
    "gamma0 = 0.5\n",
    "a0 = 1.0\n",
    "# Time arange to solve in the calculation\n",
    "time_step = 0.01\n",
    "time_range = 600\n",
    "time = np.arange(0, time_range, time_step)\n",
    "\n",
    "################### Initial Conditions ###################\n",
    "y0 = np.zeros(2 * N)"
   ]
  },
  {
   "cell_type": "code",
   "execution_count": 12,
   "metadata": {
    "collapsed": true
   },
   "outputs": [],
   "source": [
    "################### Calculations ###################\n",
    "#@jit\n",
    "def phi_tt(y, t, a = 1., alpha = 0.1, gamma = 0.5):\n",
    "    '''\n",
    "    phi_t and phi_tt return the slope of phi and d(phi)/dt respectively.\n",
    "    y is a vetor with length 6(=2 * 3).\n",
    "    y[0]~y[6] is phi_(n-1), d(phi_(n-1))/dt, phi_(n), d(phi_(n))/dt, phi_(n+1), d(phi_(n+1))/dt, respectively.\n",
    "    '''  \n",
    "    pass\n",
    "    re = -alpha * y[3] - np.sin(y[2]) - (gamma + np.sin(t)) + (y[0] - 2 * y[2] + y[4]) / a**2\n",
    "    #print 'aaaaaaa'\n",
    "    #print gamma\n",
    "    #print 'aaaaaaa'\n",
    "    return re\n",
    "\n",
    "#@jit\n",
    "def every_six(y, t, a = 1., alpha = 0.1, gamma = 0.5):\n",
    "    '''\n",
    "    Each time, use 6 of the y array to calculate phi_tt.\n",
    "    '''\n",
    "    LEN = len(y)\n",
    "    LEN2 = LEN / 2\n",
    "    re = np.zeros(LEN2)\n",
    "    #TODO maybe useful: np.apply_along_axis(fun, axis=1, array)\n",
    "    re[0] = phi_tt(np.hstack((y[-2:], y[:4])), t, a, alpha, gamma)\n",
    "    for i in np.arange(1, LEN2 - 1):\n",
    "        re[i] = phi_tt(y[2 * i - 2: 2 * i + 4], t, a, alpha, gamma)\n",
    "    re[LEN2 - 1] = phi_tt(np.hstack((y[-4:], y[:2])), t, a, alpha, gamma)\n",
    "    return re\n",
    "\n",
    "#@jit\n",
    "def myfunc(y, t, a = 1., alpha = 0.1, gamma = 0.5):\n",
    "    '''\n",
    "    y is a vetor with length 2 * N. \n",
    "    y[0] ~ y[N] is phi1_t, phi1_tt, phi2_t, phi2_tt, ... , phiN_t, phiN_tt, respectively.\n",
    "    '''\n",
    "    LEN = len(y)\n",
    "    re = np.zeros(LEN)\n",
    "    index = np.arange(LEN)\n",
    "    boolean_index_even = (index % 2 == 0)\n",
    "    boolean_index_odd = (index % 2 == 1)\n",
    "\n",
    "    re[boolean_index_even] = y[boolean_index_odd] #TODO 或者使用phi_t函数？画蛇添足吧\n",
    "    re[boolean_index_odd] = every_six(y, t, a, alpha, gamma)\n",
    "    return re"
   ]
  },
  {
   "cell_type": "code",
   "execution_count": 27,
   "metadata": {
    "collapsed": true
   },
   "outputs": [],
   "source": [
    "################### Test Plot ###################\n",
    "#@jit\n",
    "def myplot(f, y0, t, arguments=(a0, alpha0, gamma0)):\n",
    "    '''\n",
    "    Plot U-t and phi-t relation in two sub-figures\n",
    "    '''\n",
    "    # creat two sub-figures\n",
    "    fig = plt.figure(figsize=(20, 10))\n",
    "    ax1 = fig.add_subplot(2, 1, 1)\n",
    "    ax2 = fig.add_subplot(2, 1, 2)\n",
    "    # set title and label\n",
    "    ax1.set_title('Time from 0 to %f. $\\gamma$ = %f, alpha = %f, a = %f'\n",
    "    % (time[len(time) - 1], arguments[2], arguments[1], arguments[0]))\n",
    "    ax1.set_xlabel('Time t / s')\n",
    "    ax1.set_ylabel('Phase $\\phi$ / rad')\n",
    "    ax2.set_xlabel('Time t / s')\n",
    "    ax2.set_ylabel('Votage $U$ / V')\n",
    "    # calculate using ODEINT function\n",
    "    result = inte.odeint(f, y0, t, args=arguments)\n",
    "    # plot a horizonal line at y = 0\n",
    "    ax2.plot(time, np.zeros(len(time)))\n",
    "    for i in np.arange(len(y0) / 2):\n",
    "        ax1.plot(time, result[:, 2 * i], label='$\\phi_{%d}$' % (i + 1)) \n",
    "        ax2.plot(time, result[:, 2 * i + 1], label='$U_{%d}$' % (i + 1))\n",
    "    # location of the legends\n",
    "    ax1.legend(loc=\"best\")    \n",
    "    ax2.legend(loc=\"best\")\n",
    "    plt.savefig('comp.results/alpha = %f.png' % arguments[2], dpi=144, format='png')\n",
    "    plt.close()\n",
    "    #plt.show()"
   ]
  },
  {
   "cell_type": "code",
   "execution_count": 5,
   "metadata": {
    "collapsed": false
   },
   "outputs": [
    {
     "name": "stdout",
     "output_type": "stream",
     "text": [
      "\n",
      "\n",
      "counter = 0.000000, mygamma = -3.000000\n"
     ]
    },
    {
     "ename": "KeyboardInterrupt",
     "evalue": "",
     "output_type": "error",
     "traceback": [
      "\u001b[1;31m---------------------------------------------------------------------------\u001b[0m",
      "\u001b[1;31mKeyboardInterrupt\u001b[0m                         Traceback (most recent call last)",
      "\u001b[1;32m<ipython-input-5-115dcc3a030b>\u001b[0m in \u001b[0;36m<module>\u001b[1;34m()\u001b[0m\n\u001b[0;32m      8\u001b[0m     \u001b[1;32mfor\u001b[0m \u001b[0mmygamma\u001b[0m \u001b[1;32min\u001b[0m \u001b[0mgamma_array\u001b[0m\u001b[1;33m:\u001b[0m\u001b[1;33m\u001b[0m\u001b[0m\n\u001b[0;32m      9\u001b[0m         \u001b[0margu3\u001b[0m \u001b[1;33m=\u001b[0m \u001b[1;33m(\u001b[0m\u001b[0ma0\u001b[0m\u001b[1;33m,\u001b[0m \u001b[0malpha0\u001b[0m\u001b[1;33m,\u001b[0m \u001b[0mmygamma\u001b[0m\u001b[1;33m)\u001b[0m\u001b[1;33m\u001b[0m\u001b[0m\n\u001b[1;32m---> 10\u001b[1;33m         \u001b[0mresult\u001b[0m \u001b[1;33m=\u001b[0m \u001b[0minte\u001b[0m\u001b[1;33m.\u001b[0m\u001b[0modeint\u001b[0m\u001b[1;33m(\u001b[0m\u001b[0mmyfunc\u001b[0m\u001b[1;33m,\u001b[0m \u001b[0my0\u001b[0m\u001b[1;33m,\u001b[0m \u001b[0mtime\u001b[0m\u001b[1;33m,\u001b[0m \u001b[0margu3\u001b[0m\u001b[1;33m)\u001b[0m\u001b[1;33m\u001b[0m\u001b[0m\n\u001b[0m\u001b[0;32m     11\u001b[0m         \u001b[0mcut\u001b[0m \u001b[1;33m=\u001b[0m \u001b[1;36m100.\u001b[0m\u001b[1;33m\u001b[0m\u001b[0m\n\u001b[0;32m     12\u001b[0m         \u001b[0mcut_index\u001b[0m \u001b[1;33m=\u001b[0m \u001b[0mnp\u001b[0m\u001b[1;33m.\u001b[0m\u001b[0mint\u001b[0m\u001b[1;33m(\u001b[0m\u001b[0mcut\u001b[0m \u001b[1;33m/\u001b[0m \u001b[0mtime_step\u001b[0m\u001b[1;33m)\u001b[0m\u001b[1;33m\u001b[0m\u001b[0m\n",
      "\u001b[1;32mE:\\Anaconda3\\envs\\env2\\lib\\site-packages\\scipy\\integrate\\odepack.pyc\u001b[0m in \u001b[0;36modeint\u001b[1;34m(func, y0, t, args, Dfun, col_deriv, full_output, ml, mu, rtol, atol, tcrit, h0, hmax, hmin, ixpr, mxstep, mxhnil, mxordn, mxords, printmessg)\u001b[0m\n\u001b[0;32m    213\u001b[0m     output = _odepack.odeint(func, y0, t, args, Dfun, col_deriv, ml, mu,\n\u001b[0;32m    214\u001b[0m                              \u001b[0mfull_output\u001b[0m\u001b[1;33m,\u001b[0m \u001b[0mrtol\u001b[0m\u001b[1;33m,\u001b[0m \u001b[0matol\u001b[0m\u001b[1;33m,\u001b[0m \u001b[0mtcrit\u001b[0m\u001b[1;33m,\u001b[0m \u001b[0mh0\u001b[0m\u001b[1;33m,\u001b[0m \u001b[0mhmax\u001b[0m\u001b[1;33m,\u001b[0m \u001b[0mhmin\u001b[0m\u001b[1;33m,\u001b[0m\u001b[1;33m\u001b[0m\u001b[0m\n\u001b[1;32m--> 215\u001b[1;33m                              ixpr, mxstep, mxhnil, mxordn, mxords)\n\u001b[0m\u001b[0;32m    216\u001b[0m     \u001b[1;32mif\u001b[0m \u001b[0moutput\u001b[0m\u001b[1;33m[\u001b[0m\u001b[1;33m-\u001b[0m\u001b[1;36m1\u001b[0m\u001b[1;33m]\u001b[0m \u001b[1;33m<\u001b[0m \u001b[1;36m0\u001b[0m\u001b[1;33m:\u001b[0m\u001b[1;33m\u001b[0m\u001b[0m\n\u001b[0;32m    217\u001b[0m         \u001b[0mwarning_msg\u001b[0m \u001b[1;33m=\u001b[0m \u001b[0m_msgs\u001b[0m\u001b[1;33m[\u001b[0m\u001b[0moutput\u001b[0m\u001b[1;33m[\u001b[0m\u001b[1;33m-\u001b[0m\u001b[1;36m1\u001b[0m\u001b[1;33m]\u001b[0m\u001b[1;33m]\u001b[0m \u001b[1;33m+\u001b[0m \u001b[1;34m\" Run with full_output = 1 to get quantitative information.\"\u001b[0m\u001b[1;33m\u001b[0m\u001b[0m\n",
      "\u001b[1;32m<ipython-input-3-f8656b0ce7ac>\u001b[0m in \u001b[0;36mmyfunc\u001b[1;34m(y, t, a, alpha, gamma)\u001b[0m\n\u001b[0;32m     39\u001b[0m \u001b[1;33m\u001b[0m\u001b[0m\n\u001b[0;32m     40\u001b[0m     \u001b[0mre\u001b[0m\u001b[1;33m[\u001b[0m\u001b[0mboolean_index_even\u001b[0m\u001b[1;33m]\u001b[0m \u001b[1;33m=\u001b[0m \u001b[0my\u001b[0m\u001b[1;33m[\u001b[0m\u001b[0mboolean_index_odd\u001b[0m\u001b[1;33m]\u001b[0m \u001b[1;31m#TODO 或者使用phi_t函数？画蛇添足吧\u001b[0m\u001b[1;33m\u001b[0m\u001b[0m\n\u001b[1;32m---> 41\u001b[1;33m     \u001b[0mre\u001b[0m\u001b[1;33m[\u001b[0m\u001b[0mboolean_index_odd\u001b[0m\u001b[1;33m]\u001b[0m \u001b[1;33m=\u001b[0m \u001b[0mevery_six\u001b[0m\u001b[1;33m(\u001b[0m\u001b[0my\u001b[0m\u001b[1;33m,\u001b[0m \u001b[0mt\u001b[0m\u001b[1;33m,\u001b[0m \u001b[0ma\u001b[0m\u001b[1;33m,\u001b[0m \u001b[0malpha\u001b[0m\u001b[1;33m,\u001b[0m \u001b[0mgamma\u001b[0m\u001b[1;33m)\u001b[0m\u001b[1;33m\u001b[0m\u001b[0m\n\u001b[0m\u001b[0;32m     42\u001b[0m     \u001b[1;32mreturn\u001b[0m \u001b[0mre\u001b[0m\u001b[1;33m\u001b[0m\u001b[0m\n",
      "\u001b[1;32m<ipython-input-3-f8656b0ce7ac>\u001b[0m in \u001b[0;36mevery_six\u001b[1;34m(y, t, a, alpha, gamma)\u001b[0m\n\u001b[0;32m     22\u001b[0m     \u001b[0mre\u001b[0m\u001b[1;33m[\u001b[0m\u001b[1;36m0\u001b[0m\u001b[1;33m]\u001b[0m \u001b[1;33m=\u001b[0m \u001b[0mphi_tt\u001b[0m\u001b[1;33m(\u001b[0m\u001b[0mnp\u001b[0m\u001b[1;33m.\u001b[0m\u001b[0mhstack\u001b[0m\u001b[1;33m(\u001b[0m\u001b[1;33m(\u001b[0m\u001b[0my\u001b[0m\u001b[1;33m[\u001b[0m\u001b[1;33m-\u001b[0m\u001b[1;36m2\u001b[0m\u001b[1;33m:\u001b[0m\u001b[1;33m]\u001b[0m\u001b[1;33m,\u001b[0m \u001b[0my\u001b[0m\u001b[1;33m[\u001b[0m\u001b[1;33m:\u001b[0m\u001b[1;36m4\u001b[0m\u001b[1;33m]\u001b[0m\u001b[1;33m)\u001b[0m\u001b[1;33m)\u001b[0m\u001b[1;33m,\u001b[0m \u001b[0mt\u001b[0m\u001b[1;33m,\u001b[0m \u001b[0ma\u001b[0m\u001b[1;33m,\u001b[0m \u001b[0malpha\u001b[0m\u001b[1;33m,\u001b[0m \u001b[0mgamma\u001b[0m\u001b[1;33m)\u001b[0m\u001b[1;33m\u001b[0m\u001b[0m\n\u001b[0;32m     23\u001b[0m     \u001b[1;32mfor\u001b[0m \u001b[0mi\u001b[0m \u001b[1;32min\u001b[0m \u001b[0mnp\u001b[0m\u001b[1;33m.\u001b[0m\u001b[0marange\u001b[0m\u001b[1;33m(\u001b[0m\u001b[1;36m1\u001b[0m\u001b[1;33m,\u001b[0m \u001b[0mLEN2\u001b[0m \u001b[1;33m-\u001b[0m \u001b[1;36m1\u001b[0m\u001b[1;33m)\u001b[0m\u001b[1;33m:\u001b[0m\u001b[1;33m\u001b[0m\u001b[0m\n\u001b[1;32m---> 24\u001b[1;33m         \u001b[0mre\u001b[0m\u001b[1;33m[\u001b[0m\u001b[0mi\u001b[0m\u001b[1;33m]\u001b[0m \u001b[1;33m=\u001b[0m \u001b[0mphi_tt\u001b[0m\u001b[1;33m(\u001b[0m\u001b[0my\u001b[0m\u001b[1;33m[\u001b[0m\u001b[1;36m2\u001b[0m \u001b[1;33m*\u001b[0m \u001b[0mi\u001b[0m \u001b[1;33m-\u001b[0m \u001b[1;36m2\u001b[0m\u001b[1;33m:\u001b[0m \u001b[1;36m2\u001b[0m \u001b[1;33m*\u001b[0m \u001b[0mi\u001b[0m \u001b[1;33m+\u001b[0m \u001b[1;36m4\u001b[0m\u001b[1;33m]\u001b[0m\u001b[1;33m,\u001b[0m \u001b[0mt\u001b[0m\u001b[1;33m,\u001b[0m \u001b[0ma\u001b[0m\u001b[1;33m,\u001b[0m \u001b[0malpha\u001b[0m\u001b[1;33m,\u001b[0m \u001b[0mgamma\u001b[0m\u001b[1;33m)\u001b[0m\u001b[1;33m\u001b[0m\u001b[0m\n\u001b[0m\u001b[0;32m     25\u001b[0m     \u001b[0mre\u001b[0m\u001b[1;33m[\u001b[0m\u001b[0mLEN2\u001b[0m \u001b[1;33m-\u001b[0m \u001b[1;36m1\u001b[0m\u001b[1;33m]\u001b[0m \u001b[1;33m=\u001b[0m \u001b[0mphi_tt\u001b[0m\u001b[1;33m(\u001b[0m\u001b[0mnp\u001b[0m\u001b[1;33m.\u001b[0m\u001b[0mhstack\u001b[0m\u001b[1;33m(\u001b[0m\u001b[1;33m(\u001b[0m\u001b[0my\u001b[0m\u001b[1;33m[\u001b[0m\u001b[1;33m-\u001b[0m\u001b[1;36m4\u001b[0m\u001b[1;33m:\u001b[0m\u001b[1;33m]\u001b[0m\u001b[1;33m,\u001b[0m \u001b[0my\u001b[0m\u001b[1;33m[\u001b[0m\u001b[1;33m:\u001b[0m\u001b[1;36m2\u001b[0m\u001b[1;33m]\u001b[0m\u001b[1;33m)\u001b[0m\u001b[1;33m)\u001b[0m\u001b[1;33m,\u001b[0m \u001b[0mt\u001b[0m\u001b[1;33m,\u001b[0m \u001b[0ma\u001b[0m\u001b[1;33m,\u001b[0m \u001b[0malpha\u001b[0m\u001b[1;33m,\u001b[0m \u001b[0mgamma\u001b[0m\u001b[1;33m)\u001b[0m\u001b[1;33m\u001b[0m\u001b[0m\n\u001b[0;32m     26\u001b[0m     \u001b[1;32mreturn\u001b[0m \u001b[0mre\u001b[0m\u001b[1;33m\u001b[0m\u001b[0m\n",
      "\u001b[1;32m<ipython-input-3-f8656b0ce7ac>\u001b[0m in \u001b[0;36mphi_tt\u001b[1;34m(y, t, a, alpha, gamma)\u001b[0m\n\u001b[0;32m      8\u001b[0m     '''  \n\u001b[0;32m      9\u001b[0m     \u001b[1;32mpass\u001b[0m\u001b[1;33m\u001b[0m\u001b[0m\n\u001b[1;32m---> 10\u001b[1;33m     \u001b[0mre\u001b[0m \u001b[1;33m=\u001b[0m \u001b[1;33m-\u001b[0m\u001b[0malpha\u001b[0m \u001b[1;33m*\u001b[0m \u001b[0my\u001b[0m\u001b[1;33m[\u001b[0m\u001b[1;36m3\u001b[0m\u001b[1;33m]\u001b[0m \u001b[1;33m-\u001b[0m \u001b[0mnp\u001b[0m\u001b[1;33m.\u001b[0m\u001b[0msin\u001b[0m\u001b[1;33m(\u001b[0m\u001b[0my\u001b[0m\u001b[1;33m[\u001b[0m\u001b[1;36m2\u001b[0m\u001b[1;33m]\u001b[0m\u001b[1;33m)\u001b[0m \u001b[1;33m-\u001b[0m \u001b[1;33m(\u001b[0m\u001b[0mgamma\u001b[0m \u001b[1;33m+\u001b[0m \u001b[0mnp\u001b[0m\u001b[1;33m.\u001b[0m\u001b[0msin\u001b[0m\u001b[1;33m(\u001b[0m\u001b[0mt\u001b[0m\u001b[1;33m)\u001b[0m\u001b[1;33m)\u001b[0m \u001b[1;33m+\u001b[0m \u001b[1;33m(\u001b[0m\u001b[0my\u001b[0m\u001b[1;33m[\u001b[0m\u001b[1;36m0\u001b[0m\u001b[1;33m]\u001b[0m \u001b[1;33m-\u001b[0m \u001b[1;36m2\u001b[0m \u001b[1;33m*\u001b[0m \u001b[0my\u001b[0m\u001b[1;33m[\u001b[0m\u001b[1;36m2\u001b[0m\u001b[1;33m]\u001b[0m \u001b[1;33m+\u001b[0m \u001b[0my\u001b[0m\u001b[1;33m[\u001b[0m\u001b[1;36m4\u001b[0m\u001b[1;33m]\u001b[0m\u001b[1;33m)\u001b[0m \u001b[1;33m/\u001b[0m \u001b[0ma\u001b[0m\u001b[1;33m**\u001b[0m\u001b[1;36m2\u001b[0m\u001b[1;33m\u001b[0m\u001b[0m\n\u001b[0m\u001b[0;32m     11\u001b[0m     \u001b[1;31m#print 'aaaaaaa'\u001b[0m\u001b[1;33m\u001b[0m\u001b[1;33m\u001b[0m\u001b[0m\n\u001b[0;32m     12\u001b[0m     \u001b[1;31m#print gamma\u001b[0m\u001b[1;33m\u001b[0m\u001b[1;33m\u001b[0m\u001b[0m\n",
      "\u001b[1;31mKeyboardInterrupt\u001b[0m: "
     ]
    }
   ],
   "source": [
    "judge = 1\n",
    "if (judge):\n",
    "    ################### Plot gamma-U curve ###################\n",
    "    gamma_step = 0.01\n",
    "    gamma_array = np.arange(-3., 3., gamma_step)\n",
    "    gamma_U_array = np.zeros([len(gamma_array), N + 1])\n",
    "    counter = 0\n",
    "    for mygamma in gamma_array:\n",
    "        argu3 = (a0, alpha0, mygamma)\n",
    "        result = inte.odeint(myfunc, y0, time, argu3)\n",
    "        cut = 100.\n",
    "        cut_index = np.int(cut / time_step)\n",
    "        result_cut = result[cut_index: , :]\n",
    "        index = np.arange(result_cut.shape[1])\n",
    "        boolean_index_even = (index % 2 == 0)\n",
    "        boolean_index_odd = (index % 2 == 1)\n",
    "        result_cut_U = result_cut[:, boolean_index_odd]\n",
    "        U_mean = np.mean(result_cut_U, axis=0)\n",
    "        gamma_U_array[counter, 1:] = U_mean\n",
    "        print \"\\n\\ncounter = %f, mygamma = %f\" %(counter, mygamma)\n",
    "    #     print U_mean\n",
    "        counter += 1\n",
    "    gamma_U_array[:, 0] = gamma_array\n",
    "    np.save('comp.results/gamma_U_array', gamma_U_array)\n",
    "    plt.figure(figsize=(12,8))\n",
    "    plt.plot(gamma_U_array[:, 0], gamma_U_array[:, 1], lw=1.5)\n",
    "    plt.xlabel(\"$\\gamma$\")\n",
    "    plt.ylabel(\"$U$ (normalized)\")\n",
    "    plt.title(r'Time from %f to %f. a = %f, $\\alpha$ = %f, $\\gamma$ step = %f'\n",
    "    % (cut, time_range, argu3[0], argu3[1], gamma_step))\n",
    "    plt.show()\n",
    "else:\n",
    "    ################### Plot phi-t, U-t at different gamma value ###################\n",
    "    # Time it\n",
    "    print tm.clock()\n",
    "    gamma_array = np.arange(20, 21, 1)\n",
    "    for mygamma in gamma_array:\n",
    "        argu3 = (a0, alpha0, mygamma)\n",
    "        myplot(myfunc, y0, time, argu3)  \n",
    "        print \"mygamma = %f\" % mygamma + \"is done.\\n\"\n",
    "    # Time it again\n",
    "    print tm.clock()\n",
    "    plt.show()"
   ]
  },
  {
   "cell_type": "markdown",
   "metadata": {},
   "source": [
    "上面是完整程序代码 下面是测试"
   ]
  },
  {
   "cell_type": "code",
   "execution_count": 10,
   "metadata": {
    "collapsed": false
   },
   "outputs": [
    {
     "data": {
      "image/png": "[encoded data removed]",
      "text/plain": [
       "<matplotlib.figure.Figure at 0x9105908>"
      ]
     },
     "metadata": {},
     "output_type": "display_data"
    }
   ],
   "source": [
    "argu3 = (a0, alpha0, 0.)\n",
    "cut = 100.\n",
    "gamma_step = 0.01\n",
    "gamma_U_array = np.load('comp.results/gamma_U_array.npy')\n",
    "plt.figure(figsize=(12,8))\n",
    "plt.plot(gamma_U_array[:, 0], gamma_U_array[:, 1], lw=1., label=\"1\")\n",
    "plt.plot(gamma_U_array[:, 0], gamma_U_array[:, 2], lw=1., label=\"2\")\n",
    "plt.xlabel(\"$\\gamma$\")\n",
    "plt.ylabel(\"$U$ (normalized)\")\n",
    "plt.title(r'Time from %f to %f. a = %f, $\\alpha$ = %f, $\\gamma$ step = %f'\n",
    "% (cut, time_range, argu3[0], argu3[1], gamma_step))\n",
    "plt.legend(loc=\"best\")\n",
    "plt.show()"
   ]
  },
  {
   "cell_type": "code",
   "execution_count": 11,
   "metadata": {
    "collapsed": false
   },
   "outputs": [
    {
     "data": {
      "text/plain": [
       "(600L, 9L)"
      ]
     },
     "execution_count": 11,
     "metadata": {},
     "output_type": "execute_result"
    }
   ],
   "source": [
    "gamma_U_array.shape"
   ]
  },
  {
   "cell_type": "code",
   "execution_count": 20,
   "metadata": {
    "collapsed": false
   },
   "outputs": [
    {
     "data": {
      "text/plain": [
       "<matplotlib.collections.PathCollection at 0x9142198>"
      ]
     },
     "execution_count": 20,
     "metadata": {},
     "output_type": "execute_result"
    },
    {
     "data": {
      "image/png": "[encoded data removed]",
      "text/plain": [
       "<matplotlib.figure.Figure at 0x8b0e198>"
      ]
     },
     "metadata": {},
     "output_type": "display_data"
    },
    {
     "data": {
      "image/png": "[encoded data removed]",
      "text/plain": [
       "<matplotlib.figure.Figure at 0x985b780>"
      ]
     },
     "metadata": {},
     "output_type": "display_data"
    }
   ],
   "source": [
    "a, b = 270, 330\n",
    "argu3 = (a0, alpha0, 0.)\n",
    "cut = 100.\n",
    "gamma_step = 0.01\n",
    "gamma_U_array = np.load('comp.results/gamma_U_array.npy')\n",
    "plt.figure(figsize=(12,8))\n",
    "plt.plot(gamma_U_array[a:b, 0], gamma_U_array[a:b, 1], lw=1., label=\"1\")\n",
    "plt.plot(gamma_U_array[a:b, 0], gamma_U_array[a:b, 2], lw=1., label=\"2\")\n",
    "plt.xlabel(\"$\\gamma$\")\n",
    "plt.ylabel(\"$U$ (normalized)\")\n",
    "plt.title(r'Time from %f to %f. a = %f, $\\alpha$ = %f, $\\gamma$ step = %f'\n",
    "% (cut, time_range, argu3[0], argu3[1], gamma_step))\n",
    "plt.legend(loc=\"best\")\n",
    "plt.figure(figsize=(12,8))\n",
    "plt.scatter(gamma_U_array[a:b, 0], gamma_U_array[a:b, 1], lw=1., label=\"1\")"
   ]
  },
  {
   "cell_type": "code",
   "execution_count": 6,
   "metadata": {
    "collapsed": true
   },
   "outputs": [],
   "source": [
    "%matplotlib inline"
   ]
  },
  {
   "cell_type": "code",
   "execution_count": 29,
   "metadata": {
    "collapsed": false,
    "scrolled": false
   },
   "outputs": [
    {
     "name": "stdout",
     "output_type": "stream",
     "text": [
      "mygamma = 0.005000is done.\n",
      "\n",
      "mygamma = 0.015000is done.\n",
      "\n",
      "mygamma = 0.025000is done.\n",
      "\n",
      "mygamma = 0.035000is done.\n",
      "\n",
      "mygamma = 0.045000is done.\n",
      "\n",
      "mygamma = 0.055000is done.\n",
      "\n",
      "mygamma = 0.065000is done.\n",
      "\n",
      "mygamma = 0.075000is done.\n",
      "\n",
      "mygamma = 0.085000is done.\n",
      "\n",
      "mygamma = 0.095000is done.\n",
      "\n",
      "mygamma = 0.105000is done.\n",
      "\n",
      "mygamma = 0.115000is done.\n",
      "\n",
      "mygamma = 0.125000is done.\n",
      "\n",
      "mygamma = 0.135000is done.\n",
      "\n",
      "mygamma = 0.145000is done.\n",
      "\n",
      "mygamma = 0.155000is done.\n",
      "\n",
      "mygamma = 0.165000is done.\n",
      "\n",
      "mygamma = 0.175000is done.\n",
      "\n",
      "mygamma = 0.185000is done.\n",
      "\n",
      "mygamma = 0.195000is done.\n",
      "\n",
      "mygamma = 0.205000is done.\n",
      "\n",
      "mygamma = 0.215000is done.\n",
      "\n",
      "mygamma = 0.225000is done.\n",
      "\n",
      "mygamma = 0.235000is done.\n",
      "\n",
      "mygamma = 0.245000is done.\n",
      "\n",
      "mygamma = 0.255000is done.\n",
      "\n",
      "mygamma = 0.265000is done.\n",
      "\n",
      "mygamma = 0.275000is done.\n",
      "\n",
      "mygamma = 0.285000is done.\n",
      "\n",
      "mygamma = 0.295000is done.\n",
      "\n"
     ]
    }
   ],
   "source": [
    "gamma_array = np.arange(0.00, 0.305, 0.01)\n",
    "for mygamma in gamma_array:\n",
    "    argu3 = (a0, alpha0, mygamma)\n",
    "    myplot(myfunc, y0, time, argu3)\n",
    "    print \"mygamma = %f\" % mygamma + \"is done.\\n\""
   ]
  },
  {
   "cell_type": "code",
   "execution_count": 62,
   "metadata": {
    "collapsed": false
   },
   "outputs": [],
   "source": [
    "gamma_array = np.arange(-2., 2., 0.1)\n",
    "gamma_U_array = np.zeros([len(gamma_array), N + 1])\n",
    "counter = 0\n",
    "for mygamma in gamma_array:\n",
    "    argu3 = (a0, alpha0, mygamma)\n",
    "    result = inte.odeint(myfunc, y0, time, argu3)\n",
    "    cut = 100.\n",
    "    cut_index = np.int(cut / time_step)\n",
    "    result_cut = result[cut_index: , :]\n",
    "    index = np.arange(result_cut.shape[1])\n",
    "    boolean_index_even = (index % 2 == 0)\n",
    "    boolean_index_odd = (index % 2 == 1)\n",
    "    result_cut_U = result_cut[:, boolean_index_odd]\n",
    "    U_mean = np.mean(result_cut_U, axis=0)\n",
    "    gamma_U_array[counter, 1:] = U_mean\n",
    "#     print \"\\n\\ncounter = %f, mygamma = %f\" %(counter, mygamma)\n",
    "#     print U_mean\n",
    "    counter += 1\n",
    "gamma_U_array[:, 0] = gamma_array\n",
    "plt.plot(gamma_U_array[:, 0], gamma_U_array[:, 1])\n",
    "plt."
   ]
  },
  {
   "cell_type": "code",
   "execution_count": 65,
   "metadata": {
    "collapsed": false
   },
   "outputs": [
    {
     "data": {
      "text/plain": [
       "[<matplotlib.lines.Line2D at 0x87f36d8>]"
      ]
     },
     "execution_count": 65,
     "metadata": {},
     "output_type": "execute_result"
    },
    {
     "data": {
      "image/png": "[encoded data removed]",
      "text/plain": [
       "<matplotlib.figure.Figure at 0xd32f320>"
      ]
     },
     "metadata": {},
     "output_type": "display_data"
    }
   ],
   "source": [
    "gamma_U_array[:, 0] = gamma_array\n",
    "plt.plot(gamma_U_array[:, 0], gamma_U_array[:, 1])"
   ]
  },
  {
   "cell_type": "code",
   "execution_count": 64,
   "metadata": {
    "collapsed": false
   },
   "outputs": [
    {
     "data": {
      "text/plain": [
       "array([[  1.99998089e+01,   1.99998089e+01,   1.99998089e+01,\n",
       "          1.99998089e+01,   1.99998089e+01,   1.99998089e+01],\n",
       "       [  1.89998889e+01,   1.89998889e+01,   1.89998889e+01,\n",
       "          1.89998889e+01,   1.89998889e+01,   1.89998889e+01],\n",
       "       [  1.79998137e+01,   1.79998137e+01,   1.79998137e+01,\n",
       "          1.79998137e+01,   1.79998137e+01,   1.79998137e+01],\n",
       "       [  1.69997781e+01,   1.69997781e+01,   1.69997781e+01,\n",
       "          1.69997781e+01,   1.69997781e+01,   1.69997781e+01],\n",
       "       [  1.59998849e+01,   1.59998849e+01,   1.59998849e+01,\n",
       "          1.59998849e+01,   1.59998849e+01,   1.59998849e+01],\n",
       "       [  1.49997393e+01,   1.49997393e+01,   1.49997393e+01,\n",
       "          1.49997393e+01,   1.49997393e+01,   1.49997393e+01],\n",
       "       [  1.39997565e+01,   1.39997565e+01,   1.39997565e+01,\n",
       "          1.39997565e+01,   1.39997565e+01,   1.39997565e+01],\n",
       "       [  1.29997216e+01,   1.29997216e+01,   1.29997216e+01,\n",
       "          1.29997216e+01,   1.29997216e+01,   1.29997216e+01],\n",
       "       [  1.19996450e+01,   1.19996450e+01,   1.19996450e+01,\n",
       "          1.19996450e+01,   1.19996450e+01,   1.19996450e+01],\n",
       "       [  1.09995538e+01,   1.09995538e+01,   1.09995538e+01,\n",
       "          1.09995538e+01,   1.09995538e+01,   1.09995538e+01],\n",
       "       [  9.99941093e+00,   9.99941093e+00,   9.99941093e+00,\n",
       "          9.99941093e+00,   9.99941093e+00,   9.99941093e+00],\n",
       "       [  8.99924263e+00,   8.99924263e+00,   8.99924263e+00,\n",
       "          8.99924263e+00,   8.99924263e+00,   8.99924263e+00],\n",
       "       [  7.99894122e+00,   7.99894122e+00,   7.99894122e+00,\n",
       "          7.99894122e+00,   7.99894122e+00,   7.99894122e+00],\n",
       "       [  9.87899798e-06,   9.87899798e-06,   9.87899798e-06,\n",
       "          9.87899798e-06,   9.87899798e-06,   9.87899798e-06],\n",
       "       [  3.43792570e-05,   3.43792570e-05,   3.43792570e-05,\n",
       "          3.43792570e-05,   3.43792570e-05,   3.43792570e-05],\n",
       "       [ -2.54911894e-06,  -2.54911894e-06,  -2.54911894e-06,\n",
       "         -2.54911894e-06,  -2.54911894e-06,  -2.54911894e-06],\n",
       "       [  1.14219146e-05,   1.14219146e-05,   1.14219146e-05,\n",
       "          1.14219146e-05,   1.14219146e-05,   1.14219146e-05],\n",
       "       [ -2.09736638e-05,  -2.09736638e-05,  -2.09736638e-05,\n",
       "         -2.09736638e-05,  -2.09736638e-05,  -2.09736638e-05],\n",
       "       [ -2.40397032e-06,  -2.40397032e-06,  -2.40397032e-06,\n",
       "         -2.40397032e-06,  -2.40397032e-06,  -2.40397032e-06],\n",
       "       [  3.84605784e-06,   3.84605784e-06,   3.84605784e-06,\n",
       "          3.84605784e-06,   3.84605784e-06,   3.84605784e-06],\n",
       "       [ -5.21796552e-19,  -5.21796552e-19,  -5.21796552e-19,\n",
       "         -5.21796552e-19,  -5.21796552e-19,  -5.21796552e-19],\n",
       "       [ -3.84605763e-06,  -3.84605763e-06,  -3.84605763e-06,\n",
       "         -3.84605763e-06,  -3.84605763e-06,  -3.84605763e-06],\n",
       "       [  2.40370740e-06,   2.40370740e-06,   2.40370740e-06,\n",
       "          2.40370740e-06,   2.40370740e-06,   2.40370740e-06],\n",
       "       [  2.09741240e-05,   2.09741240e-05,   2.09741240e-05,\n",
       "          2.09741240e-05,   2.09741240e-05,   2.09741240e-05],\n",
       "       [ -1.14223758e-05,  -1.14223758e-05,  -1.14223758e-05,\n",
       "         -1.14223758e-05,  -1.14223758e-05,  -1.14223758e-05],\n",
       "       [  2.54987492e-06,   2.54987492e-06,   2.54987492e-06,\n",
       "          2.54987492e-06,   2.54987492e-06,   2.54987492e-06],\n",
       "       [ -3.43763640e-05,  -3.43763640e-05,  -3.43763640e-05,\n",
       "         -3.43763640e-05,  -3.43763640e-05,  -3.43763640e-05],\n",
       "       [ -9.87616807e-06,  -9.87616807e-06,  -9.87616807e-06,\n",
       "         -9.87616807e-06,  -9.87616807e-06,  -9.87616807e-06],\n",
       "       [ -7.99894426e+00,  -7.99894426e+00,  -7.99894426e+00,\n",
       "         -7.99894426e+00,  -7.99894426e+00,  -7.99894426e+00],\n",
       "       [ -8.99924183e+00,  -8.99924183e+00,  -8.99924183e+00,\n",
       "         -8.99924183e+00,  -8.99924183e+00,  -8.99924183e+00],\n",
       "       [ -9.99940456e+00,  -9.99940456e+00,  -9.99940456e+00,\n",
       "         -9.99940456e+00,  -9.99940456e+00,  -9.99940456e+00],\n",
       "       [ -1.09995538e+01,  -1.09995538e+01,  -1.09995538e+01,\n",
       "         -1.09995538e+01,  -1.09995538e+01,  -1.09995538e+01],\n",
       "       [ -1.19996400e+01,  -1.19996400e+01,  -1.19996400e+01,\n",
       "         -1.19996400e+01,  -1.19996400e+01,  -1.19996400e+01],\n",
       "       [ -1.29997214e+01,  -1.29997214e+01,  -1.29997214e+01,\n",
       "         -1.29997214e+01,  -1.29997214e+01,  -1.29997214e+01],\n",
       "       [ -1.39997589e+01,  -1.39997589e+01,  -1.39997589e+01,\n",
       "         -1.39997589e+01,  -1.39997589e+01,  -1.39997589e+01],\n",
       "       [ -1.49997303e+01,  -1.49997303e+01,  -1.49997303e+01,\n",
       "         -1.49997303e+01,  -1.49997303e+01,  -1.49997303e+01],\n",
       "       [ -1.59998826e+01,  -1.59998826e+01,  -1.59998826e+01,\n",
       "         -1.59998826e+01,  -1.59998826e+01,  -1.59998826e+01],\n",
       "       [ -1.69997755e+01,  -1.69997755e+01,  -1.69997755e+01,\n",
       "         -1.69997755e+01,  -1.69997755e+01,  -1.69997755e+01],\n",
       "       [ -1.79998205e+01,  -1.79998205e+01,  -1.79998205e+01,\n",
       "         -1.79998205e+01,  -1.79998205e+01,  -1.79998205e+01],\n",
       "       [ -1.89998908e+01,  -1.89998908e+01,  -1.89998908e+01,\n",
       "         -1.89998908e+01,  -1.89998908e+01,  -1.89998908e+01]])"
      ]
     },
     "execution_count": 64,
     "metadata": {},
     "output_type": "execute_result"
    }
   ],
   "source": [
    "gamma_U_array"
   ]
  },
  {
   "cell_type": "code",
   "execution_count": 15,
   "metadata": {
    "collapsed": true
   },
   "outputs": [],
   "source": [
    "argu3 = (a0, alpha0, 0.8)\n",
    "result = inte.odeint(myfunc, y0, time, argu3)"
   ]
  },
  {
   "cell_type": "code",
   "execution_count": 19,
   "metadata": {
    "collapsed": false
   },
   "outputs": [
    {
     "data": {
      "text/plain": [
       "(20000L, 12L)"
      ]
     },
     "execution_count": 19,
     "metadata": {},
     "output_type": "execute_result"
    }
   ],
   "source": [
    "result.shape"
   ]
  },
  {
   "cell_type": "code",
   "execution_count": 20,
   "metadata": {
    "collapsed": true
   },
   "outputs": [],
   "source": [
    "LEN1 = result.shape[1]\n",
    "index = np.arange(LEN1)\n",
    "boolean_index_even = (index % 2 == 0)\n",
    "boolean_index_odd = (index % 2 == 1)"
   ]
  },
  {
   "cell_type": "code",
   "execution_count": 21,
   "metadata": {
    "collapsed": false
   },
   "outputs": [
    {
     "data": {
      "text/plain": [
       "array([ True, False,  True, False,  True, False,  True, False,  True,\n",
       "       False,  True, False], dtype=bool)"
      ]
     },
     "execution_count": 21,
     "metadata": {},
     "output_type": "execute_result"
    }
   ],
   "source": [
    "boolean_index_even"
   ]
  },
  {
   "cell_type": "code",
   "execution_count": 26,
   "metadata": {
    "collapsed": false
   },
   "outputs": [
    {
     "data": {
      "text/plain": [
       "array([ True,  True,  True, ...,  True,  True,  True], dtype=bool)"
      ]
     },
     "execution_count": 26,
     "metadata": {},
     "output_type": "execute_result"
    }
   ],
   "source": [
    "result[:, boolean_index_even][:, 3]==result[:, 6]"
   ]
  },
  {
   "cell_type": "code",
   "execution_count": 27,
   "metadata": {
    "collapsed": true
   },
   "outputs": [],
   "source": [
    "result_U = result[:, boolean_index_odd]"
   ]
  },
  {
   "cell_type": "code",
   "execution_count": 28,
   "metadata": {
    "collapsed": false
   },
   "outputs": [
    {
     "data": {
      "text/plain": [
       "(20000L, 6L)"
      ]
     },
     "execution_count": 28,
     "metadata": {},
     "output_type": "execute_result"
    }
   ],
   "source": [
    "result_U.shape"
   ]
  },
  {
   "cell_type": "code",
   "execution_count": 29,
   "metadata": {
    "collapsed": true
   },
   "outputs": [],
   "source": [
    "U_mean = np.mean(result_U, axis=0)"
   ]
  },
  {
   "cell_type": "code",
   "execution_count": 31,
   "metadata": {
    "collapsed": false
   },
   "outputs": [
    {
     "data": {
      "text/plain": [
       "array([-7.42725486, -7.42725486, -7.42725486, -7.42725486, -7.42725486,\n",
       "       -7.42725486])"
      ]
     },
     "execution_count": 31,
     "metadata": {},
     "output_type": "execute_result"
    }
   ],
   "source": [
    "U_mean"
   ]
  },
  {
   "cell_type": "code",
   "execution_count": 42,
   "metadata": {
    "collapsed": false
   },
   "outputs": [
    {
     "name": "stdout",
     "output_type": "stream",
     "text": [
      "[-7.99894098 -7.99894098 -7.99894098 -7.99894098 -7.99894098 -7.99894098]\n"
     ]
    },
    {
     "data": {
      "text/plain": [
       "[<matplotlib.lines.Line2D at 0x7a90eb8>]"
      ]
     },
     "execution_count": 42,
     "metadata": {},
     "output_type": "execute_result"
    },
    {
     "data": {
      "image/png": "[encoded data removed]",
      "text/plain": [
       "<matplotlib.figure.Figure at 0xb7e96a0>"
      ]
     },
     "metadata": {},
     "output_type": "display_data"
    }
   ],
   "source": [
    "cut = 100.\n",
    "cut_index = np.int(cut / time_step)\n",
    "result_cut = result[cut_index: , :]\n",
    "index = np.arange(result_cut.shape[1])\n",
    "boolean_index_odd = (index % 2 == 1)\n",
    "result_cut_U = result_cut[:, boolean_index_odd]\n",
    "U_mean = np.mean(result_cut_U, axis=0)\n",
    "print U_mean\n",
    "plt.plot(result_cut_U[:,0])"
   ]
  },
  {
   "cell_type": "code",
   "execution_count": 41,
   "metadata": {
    "collapsed": false,
    "scrolled": true
   },
   "outputs": [
    {
     "name": "stdout",
     "output_type": "stream",
     "text": [
      "[-7.42725486 -7.42725486 -7.42725486 -7.42725486 -7.42725486 -7.42725486]\n"
     ]
    },
    {
     "data": {
      "text/plain": [
       "[<matplotlib.lines.Line2D at 0x8d8a908>]"
      ]
     },
     "execution_count": 41,
     "metadata": {},
     "output_type": "execute_result"
    },
    {
     "data": {
      "image/png": "[encoded data removed]",
      "text/plain": [
       "<matplotlib.figure.Figure at 0xa2761d0>"
      ]
     },
     "metadata": {},
     "output_type": "display_data"
    }
   ],
   "source": [
    "index = np.arange(result.shape[1])\n",
    "result_U = result[:, boolean_index_odd]\n",
    "U_mean2 = np.mean(result_U, axis=0)\n",
    "print U_mean2\n",
    "plt.plot(result_U[:,0])"
   ]
  },
  {
   "cell_type": "code",
   "execution_count": 43,
   "metadata": {
    "collapsed": true
   },
   "outputs": [],
   "source": [
    "gamma_U_array = np.zeros([len(gamma_array), N])"
   ]
  },
  {
   "cell_type": "code",
   "execution_count": 44,
   "metadata": {
    "collapsed": false
   },
   "outputs": [
    {
     "data": {
      "text/plain": [
       "(20L, 6L)"
      ]
     },
     "execution_count": 44,
     "metadata": {},
     "output_type": "execute_result"
    }
   ],
   "source": [
    "gamma_U_array.shape"
   ]
  },
  {
   "cell_type": "code",
   "execution_count": null,
   "metadata": {
    "collapsed": true
   },
   "outputs": [],
   "source": []
  }
 ],
 "metadata": {
  "kernelspec": {
   "display_name": "Python 2.7",
   "language": "python",
   "name": "python2.7"
  },
  "language_info": {
   "codemirror_mode": {
    "name": "ipython",
    "version": 2
   },
   "file_extension": ".py",
   "mimetype": "text/x-python",
   "name": "python",
   "nbconvert_exporter": "python",
   "pygments_lexer": "ipython2",
   "version": "2.7.11"
  }
 },
 "nbformat": 4,
 "nbformat_minor": 0
}
